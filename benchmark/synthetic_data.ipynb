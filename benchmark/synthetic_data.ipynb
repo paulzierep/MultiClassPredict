{
 "cells": [
  {
   "cell_type": "code",
   "execution_count": null,
   "metadata": {},
   "outputs": [],
   "source": [
    "import sys\n",
    "import os\n",
    "from sklearn.datasets import make_classification\n",
    "import pandas as pd"
   ]
  },
  {
   "cell_type": "code",
   "execution_count": null,
   "metadata": {},
   "outputs": [],
   "source": [
    "# Add the parent directory to sys.path\n",
    "sys.path.append(os.path.abspath(\"..\"))  \n",
    "\n",
    "from mcp.multiclasspredict import run_classification"
   ]
  },
  {
   "cell_type": "code",
   "execution_count": null,
   "metadata": {},
   "outputs": [],
   "source": [
    "\n",
    "#varying n redundant features\n",
    "n_redundant_values = [50, 100, 200, 400, 600]\n",
    "n_seeds = 3\n",
    "ks = [10, 100, 1000]\n",
    "result_path = \"results/synthetic\"\n",
    "\n",
    "for i in n_redundant_values:\n",
    "# Generate a synthetic dataset\n",
    "    X, y = make_classification(\n",
    "        n_samples=150,      # Number of samples\n",
    "        n_features=1000,    # Total number of features\n",
    "        n_informative=20,   # Number of informative features\n",
    "        n_redundant=i,    # Number of redundant features\n",
    "        n_classes=3,        # Number of target classes\n",
    "        weights=[0.7, 0.2, 0.1],  # Proportion for each class\n",
    "        random_state=42     # For reproducibility\n",
    "    )\n",
    "\n",
    "    # Convert to DataFrame\n",
    "    X = pd.DataFrame(X)\n",
    "    y = pd.Series(y, name=\"target\")\n",
    "\n",
    "    run_classification(X, y, ks, n_seeds,os.path.join(result_path, f\"n_redundant_values_{i}_syn.csv\"), model=\"rf\", sampling_strategy=\"No Sampling\")\n",
    "\n"
   ]
  },
  {
   "cell_type": "code",
   "execution_count": null,
   "metadata": {},
   "outputs": [],
   "source": [
    "#varying n_features\n",
    "n_features_values = [10, 50, 100, 500, 1000]\n",
    "n_seeds = 3\n",
    "ks = [10, 100, 1000]\n",
    "result_path = \"results/synthetic\"\n",
    "\n",
    "for i in n_features_values:\n",
    "# Generate a synthetic dataset\n",
    "    X, y = make_classification(\n",
    "        n_samples=150,      # Number of samples\n",
    "        n_features=i,    # Total number of features\n",
    "        n_informative=20,   # Number of informative features\n",
    "        n_redundant=200,    # Number of redundant features\n",
    "        n_classes=3,        # Number of target classes\n",
    "        weights=[0.7, 0.2, 0.1],  # Proportion for each class\n",
    "        random_state=42     # For reproducibility\n",
    "    )\n",
    "\n",
    "    # Convert to DataFrame\n",
    "    X = pd.DataFrame(X)\n",
    "    y = pd.Series(y, name=\"target\")\n",
    "\n",
    "    run_classification(X, y, ks, n_seeds,os.path.join(result_path, f\"n_fear_values_{i}_syn.csv\"), model=\"rf\", sampling_strategy=\"No Sampling\")\n"
   ]
  },
  {
   "cell_type": "code",
   "execution_count": null,
   "metadata": {},
   "outputs": [],
   "source": [
    "#varying n_samples\n",
    "n_samples_values = [100, 150,  500, 1000, len(X)]\n",
    "n_seeds = 3\n",
    "ks = [10, 100, 1000]\n",
    "result_path = \"results/synthetic\"\n",
    "\n",
    "for i in n_samples_values:\n",
    "# Generate a synthetic dataset\n",
    "    X, y = make_classification(\n",
    "        n_samples=i,      # Number of samples\n",
    "        n_features=1000,    # Total number of features\n",
    "        n_informative=20,   # Number of informative features\n",
    "        n_redundant=200,    # Number of redundant features\n",
    "        n_classes=3,        # Number of target classes\n",
    "        weights=[0.7, 0.2, 0.1],  # Proportion for each class\n",
    "        random_state=42     # For reproducibility\n",
    "    )\n",
    "\n",
    "    # Convert to DataFrame\n",
    "    X = pd.DataFrame(X)\n",
    "    y = pd.Series(y, name=\"target\")\n",
    "\n",
    "    run_classification(X, y, ks, n_seeds,os.path.join(result_path, f\"n_samples_values_{i}_syn.csv\"), model=\"rf\", sampling_strategy=\"No Sampling\")\n"
   ]
  },
  {
   "cell_type": "code",
   "execution_count": null,
   "metadata": {},
   "outputs": [],
   "source": []
  }
 ],
 "metadata": {
  "kernelspec": {
   "display_name": "Python 3 (ipykernel)",
   "language": "python",
   "name": "python3"
  },
  "language_info": {
   "codemirror_mode": {
    "name": "ipython",
    "version": 3
   },
   "file_extension": ".py",
   "mimetype": "text/x-python",
   "name": "python",
   "nbconvert_exporter": "python",
   "pygments_lexer": "ipython3",
   "version": "3.12.4"
  }
 },
 "nbformat": 4,
 "nbformat_minor": 4
}
